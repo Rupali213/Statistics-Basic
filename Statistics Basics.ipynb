{
 "cells": [
  {
   "cell_type": "markdown",
   "id": "7cf4fc74-8f77-4a4c-ae56-0f9350fb39a5",
   "metadata": {},
   "source": [
    "### 1. Explain the different types of data (qualitative and quantitative) and provide examples of each. Discuss nominal, ordinal, interval, and ratio scales."
   ]
  },
  {
   "cell_type": "code",
   "execution_count": null,
   "id": "4a68b399-d1d1-4ed5-b3f3-57068cf3bdfe",
   "metadata": {},
   "outputs": [],
   "source": [
    "There are two types of data:\n",
    "\n",
    "1.Qualitative Data: Data that are categorical. Examples include blood group samples and ranking samples,list of fruits.\n",
    "2.Quantitative Data: Data that are numerical. Examples include the number of employees in a company and the salary list of managers.\n",
    "\n",
    "To measure data, there are four scales: nominal, ordinal, interval, and ratio.\n",
    "\n",
    "For Qualitative Data:\n",
    "*Nominal Data Scale: Used to measure qualitative data where the order of data doesn’t matter. Example: Blood group samples.\n",
    "*Ordinal Data Scale: Used to measure qualitative data where the order of data matters. Example: Satisfactory rankings (good, better, best).\n",
    "\n",
    "For Quantitative Data:\n",
    "*Interval Data Scale: Used to measure quantitative data where the zero point is arbitrary and not absolute. Example: Temperature.\n",
    "*Ratio Data Scale: Used to measure quantitative data where there is a true zero point, allowing for comparison between data points. Example: Salary."
   ]
  },
  {
   "cell_type": "markdown",
   "id": "c7eeec6b-cf29-43fa-a443-5b35437c820d",
   "metadata": {},
   "source": [
    "### 2. What are the measures of central tendency, and when should you use each? Discuss the mean, median, and mode with examples and situations where each is appropriate"
   ]
  },
  {
   "cell_type": "code",
   "execution_count": null,
   "id": "2231900a-4030-4308-9fc9-57fe280402ce",
   "metadata": {},
   "outputs": [],
   "source": [
    "To measure the categorical data we use central tendency \n",
    "There are three way to find central tendency>> mean, median,mode\n",
    "MEAN>> It is used to find avg value of continuous data, when outliers is not present\n",
    "       Situation>>> When we want to find overall avg of salary of employee, avg scores obtained by students in any subject.\n",
    "       Use>>when the data is symmetrically distributed without outliers then it provides good measure of central tendency.\n",
    "\n",
    "\n",
    "MEDIAN>>It is used to find actual middle value of sorted continuous data,It is used when outliers is present in data\n",
    "        Situation>>> If we  have a list of monthly rainfall amounts for a year and want to find the middle value to understand the typical monthly rainfall.\n",
    "        Use>> If we want to find middle value where outlier is present\n",
    "\n",
    "            \n",
    "MODE>> It is used to find most frequent value ,used for categorical data.\n",
    "        Situation>> When we have to find out most frequent  complaints of any product in a company we can use mode \n",
    "        Use >> Use to find most frequent value in a dataset.\n"
   ]
  },
  {
   "cell_type": "markdown",
   "id": "e5322e4a-f256-436d-8ade-ff67e807b64a",
   "metadata": {},
   "source": [
    "###  3. Explain the concept of dispersion. How do variance and standard deviation measure the spread of data?"
   ]
  },
  {
   "cell_type": "code",
   "execution_count": null,
   "id": "a47c8b46-0707-4389-900a-66546ea9556f",
   "metadata": {},
   "outputs": [],
   "source": [
    "Dispersion>> Dispersion measures the spread of data points in a dataset.\n",
    "             It helps us understand how much the data points differ from each other and from the central value (like the mean).\n",
    "                                                                                                                \n",
    "Variance>> Variance is the average of the squared differences from the mean.\n",
    "            It quantifies the spread of each data point from the mean value of the dataset.\n",
    "\n",
    "\n",
    "Standard deviation>> Standard Deviation is the square root of the variance. \n",
    "                     It measures the average distance of the data points from the mean value, making it easier to interpret compared to variance.\n"
   ]
  },
  {
   "cell_type": "markdown",
   "id": "251dc55b-215f-4c31-8dc1-30723cb05306",
   "metadata": {},
   "source": [
    "### 4. What is a box plot, and what can it tell you about the distribution of data?"
   ]
  },
  {
   "cell_type": "code",
   "execution_count": null,
   "id": "087a9e61-fd58-4a7f-90ba-6fa26f5bb44d",
   "metadata": {},
   "outputs": [],
   "source": [
    "Box plot is a graphical representation of distribution of dataset used to find insight from the data.\n",
    "\n",
    "*Component of box plot\n",
    "  Q0= smallest datapoint\n",
    "  Q1= 25 percentile(25% of the data are below thois value)\n",
    "  Q2=50 percentile(50% of the data are below thois value)\n",
    "  Q3=75 percentile(75% of the data are below thois value)\n",
    "  Q4=100 percentile(100% of the data are below this value)\n",
    "  whiskers=line extending from the box towards minimun and maximum value\n",
    "  outliers =Data lies outside the whiskers are called outliers.\n",
    "\n",
    "\n",
    "INSIGHTS\n",
    "* It shows whether data is symmetic or skewed>>\n",
    "* It shows that data is left(negative inclined) or right(positively inclined)\n",
    "* It shows outliers if present in the data\n",
    "\n"
   ]
  },
  {
   "cell_type": "markdown",
   "id": "5868467a-d0f7-4f84-95f7-42c9f4b7041b",
   "metadata": {},
   "source": [
    "###  5. Discuss the role of random sampling in making inferences about populations"
   ]
  },
  {
   "cell_type": "code",
   "execution_count": null,
   "id": "2de87dcb-a7bf-4309-97be-735a21cb8785",
   "metadata": {},
   "outputs": [],
   "source": [
    "Random sampling is used to take sample randomly from entire population.IT plays important role in making inference about population \n",
    "\n",
    "*Representativeness- It helps in creating sample that represent whole polulation.\n",
    "*Reduce Bias - In this sampling every polulation has equal chance to get selected.\n",
    "*Generalization: With a representative sample, researchers can generalize the findings from the sample to the broader population.\n",
    "                 This is essential for making predictions and decisions based on the data.\n",
    "*Statistical Validity: Random sampling supports the use of inferential statistics, which rely on the assumption that the sample is representative of the population. \n",
    "This allows for the calculation of confidence intervals and hypothesis testing."
   ]
  },
  {
   "cell_type": "markdown",
   "id": "eecdb8fc-0298-42d2-bd7a-7dfcccc70248",
   "metadata": {},
   "source": [
    "### 6. Explain the concept of skewness and its types. How does skewness affect the interpretation of data"
   ]
  },
  {
   "cell_type": "code",
   "execution_count": null,
   "id": "33d6fa51-b0bc-4243-abba-b23d509912c3",
   "metadata": {},
   "outputs": [],
   "source": [
    "Skewness is a measure of the asymmetry of a distribution. It indicates whether the data points are more concentrated on one side of the mean than the other.\n",
    "There are three main types of skewness:\n",
    "\n",
    "Left Skewed (Negative Skewed):\n",
    "Most of the data is concentrated on the right.\n",
    "The tail on the left side is longer or fatter.\n",
    "Here, mean < median < mode.\n",
    "Example: Age at retirement, where most people retire around a certain age, but a few retire much earlier.\n",
    "\n",
    "\n",
    "Right Skewed (Positive Skewed):\n",
    "Most of the data is concentrated on the left.\n",
    "The tail on the right side is longer or fatter.\n",
    "Here, mean > median > mode.\n",
    "Example: Income distribution, where a small number of people earn significantly more than the majority.\n",
    "\n",
    "    \n",
    "Not Skewed (Symmetric):\n",
    "The distribution is perfectly symmetrical.\n",
    "The left and right sides are mirror image\n",
    "Here, mean = median = mode.\n",
    "Example: Heights of adult males in a population."
   ]
  },
  {
   "cell_type": "markdown",
   "id": "a10e3abc-dd67-49c0-afcb-41da32591748",
   "metadata": {},
   "source": [
    "### 7. What is the interquartile range (IQR), and how is it used to detect outliers?"
   ]
  },
  {
   "cell_type": "code",
   "execution_count": null,
   "id": "1f1a55ea-3d7e-4a36-a948-c0aa3bd65901",
   "metadata": {},
   "outputs": [],
   "source": [
    "IQR is a measure of the spread of middle 50% of data.\n",
    "IQR= Q3-Q1\n",
    "* Outliers can be exist either in first and fourth quarter, So it takes range from Q3 to Q1.\n",
    "*Determine the Outlier Boundaries\n",
    "   lower bound = Q1-1.5IQR\n",
    "   upper bound = Q3 + 1.5IQR\n",
    "\n",
    "* Out of upper bound and lower bound all data is considered as outliers\n",
    "* Box plot visually represent IQR and outliers.\n",
    "\n",
    "Hence there is such a big role of IQR to detect outliers."
   ]
  },
  {
   "cell_type": "markdown",
   "id": "baa05e4e-15a2-499d-9d50-93d8ac8ac655",
   "metadata": {},
   "source": [
    "### 8. Discuss the conditions under which the binomial distribution is used."
   ]
  },
  {
   "cell_type": "code",
   "execution_count": null,
   "id": "b36bc2df-b5cc-4142-ae6b-7cebb66de405",
   "metadata": {},
   "outputs": [],
   "source": [
    "Conditions under which binomial distribution is used\n",
    "* Fixed number of trials: The experiment is repeated a fixed number of times.\n",
    "* Two possible outcomes: Each trial results in one of two outcomes, often labeled as “success” and “failure.”\n",
    "* Constant probability of success: The probability of success is the same for each trial.\n",
    "* Independent trials: The outcome of one trial does not affect the outcome of other trials."
   ]
  },
  {
   "cell_type": "markdown",
   "id": "59e494ad-ae7d-41ed-b568-b6737f490baf",
   "metadata": {},
   "source": [
    "### 9. Explain the properties of the normal distribution and the empirical rule (68-95-99.7 rule)"
   ]
  },
  {
   "cell_type": "code",
   "execution_count": null,
   "id": "0a5e4946-7628-4c72-a8e4-00490aa7bdb0",
   "metadata": {},
   "outputs": [],
   "source": [
    "Properties of normal distribution\n",
    "\n",
    "* Symmetry: The normal distribution is symmetric around its mean. This means that the left side of the distribution is a mirror image of the right side.\n",
    "* Mean, Median, and Mode: In a normal distribution, the mean, median, and mode are all equal and located at the center of the distribution.\n",
    "* Bell-shaped Curve: The graph of the normal distribution is bell-shaped, with most of the data clustering around the center and tapering off symmetrically towards the tails.\n",
    "* Asymptotic: The tails of the normal distribution approach the horizontal axis but never touch it. This means that there is always some probability of extreme values occurring, no matter how far they are from the mean.\n",
    "* Defined by Mean and Standard Deviation: The shape of the normal distribution is determined by its mean (μ) and standard deviation (σ). The mean determines the center of the distribution, while the standard deviation controls the spread12.\n",
    "\n",
    "The Empirical Rule (68-95-99.7 Rule)\n",
    "The empirical rule, also known as the 68-95-99.7 rule, describes how data is distributed in a normal distribution:\n",
    "\n",
    "* 68% of the data falls within one standard deviation (σ) of the mean (μ).\n",
    "* 95% of the data falls within two standard deviations (σ) of the mean (μ).\n",
    "* 99.7% of the data falls within three standard deviations (σ) of the mean (μ)34.\n",
    "This rule helps to understand the spread of data in a normal distribution and is useful for making predictions about where most of the data points lie.\n"
   ]
  },
  {
   "cell_type": "markdown",
   "id": "503e3f81-d2e1-40e5-b2c8-d13cd2e57031",
   "metadata": {},
   "source": [
    "### 10. Provide a real-life example of a Poisson process and calculate the probability for a specific event"
   ]
  },
  {
   "cell_type": "code",
   "execution_count": null,
   "id": "b093e883-e1d3-426b-994d-d6935cbb5a15",
   "metadata": {},
   "outputs": [],
   "source": [
    "Example: Imagine you are in a small coffee shop. On average, 4 customers come in every hour.\n",
    "We can think of this as a Poisson process because customers arrive independently and randomly.\n",
    "\n",
    "Let's Calculate the Probability\n",
    "What We Want to Know: What’s the chance that exactly 2 customers will come into the coffee shop in one hour?\n",
    "\n",
    "Steps to Calculate\n",
    "Average Number of Customers (𝜆): 4 customers per hour.\n",
    "Number of Customers We Want to Find (k): 2 customers.\n",
    "Poisson Formula: We can use a special formula for this:\n",
    "        \n",
    "P(X=k)= (e^−λ * λ^k)/k!\n",
    "\n",
    "λ=4\n",
    "𝑘=2\n",
    "* e^−λ= e^(−4) ≈ 0.0183\n",
    "* λ^k= 4^2=16\n",
    "* k!= 2!=2×1=2\n",
    "\n",
    "P(X=2)= 0.2928/2 ≈ 0.1464\n",
    "\n",
    "The chance that exactly 2 customers will come into the coffee shop in one hour is about 0.1464, or 14.64%.\n",
    "\n"
   ]
  },
  {
   "cell_type": "markdown",
   "id": "90023bcf-915c-4f9a-a1c2-983d5f916bd0",
   "metadata": {},
   "source": [
    "### 11. Explain what a random variable is and differentiate between discrete and continuous random variables"
   ]
  },
  {
   "cell_type": "code",
   "execution_count": null,
   "id": "891943ca-e32b-454e-a21b-0bcda59218ca",
   "metadata": {},
   "outputs": [],
   "source": [
    "A random variable is a numerical representation of any random phenomenon. There are two types of random variables:\n",
    "\n",
    "* Discrete Random Variable:\n",
    "  The outcome of this variable is finite or countable.\n",
    "  Example: Number of children in a classroom. Possible values could be 0, 1, 2, 3, etc.\n",
    "\n",
    "\n",
    "* Continuous Random Variable:\n",
    "  The outcome of this variable can take any value within a given range, making it infinite.\n",
    "  Example: Weight of students in a university. Possible values can be any real number within a range, such as 50.5 kg, 60.2 kg, etc."
   ]
  },
  {
   "cell_type": "markdown",
   "id": "ba323748-9fea-4553-9042-90357463e697",
   "metadata": {},
   "source": [
    "### 12. Provide an example dataset, calculate both covariance and correlation, and interpret the results"
   ]
  },
  {
   "cell_type": "code",
   "execution_count": 3,
   "id": "331a7650-e792-4ae0-a756-e4a4da35291c",
   "metadata": {},
   "outputs": [
    {
     "name": "stdout",
     "output_type": "stream",
     "text": [
      "   Student  Hours Studied  Test Score\n",
      "0        1              2          70\n",
      "1        2              3          75\n",
      "2        3              4          80\n",
      "3        4              5          85\n",
      "4        5              6          90\n"
     ]
    }
   ],
   "source": [
    "import pandas as pd\n",
    "data = {\n",
    "    'Student': [1, 2, 3, 4, 5],\n",
    "    'Hours Studied': [2, 3, 4, 5, 6],\n",
    "    'Test Score': [70, 75, 80, 85, 90]\n",
    "}\n",
    "dataset = pd.DataFrame(data)\n",
    "\n",
    "print(dataset)"
   ]
  },
  {
   "cell_type": "code",
   "execution_count": 5,
   "id": "7e3ba978-6314-444e-8099-124a639008af",
   "metadata": {},
   "outputs": [],
   "source": [
    "import numpy as np\n",
    "hours_studied = np.array([2, 3, 4, 5, 6])  # Hours Studied\n",
    "test_scores = np.array([70, 75, 80, 85, 90])  # Test Scores\n",
    "\n",
    "# Calculate covariance\n",
    "covariance = np.cov(hours_studied, test_scores)[0, 1]  # Get the covariance value"
   ]
  },
  {
   "cell_type": "code",
   "execution_count": 7,
   "id": "79a6d449-5d24-4121-a0ad-8f64ecefcf5b",
   "metadata": {},
   "outputs": [
    {
     "name": "stdout",
     "output_type": "stream",
     "text": [
      "Covariance: 12.5\n",
      "Correlation: 1.0\n"
     ]
    }
   ],
   "source": [
    "# Calculate correlation\n",
    "correlation = np.corrcoef(hours_studied, test_scores)[0, 1]  # Get the correlation value\n",
    "\n",
    "# Print the results\n",
    "print(f\"Covariance: {covariance}\")\n",
    "print(f\"Correlation: {correlation}\")\n"
   ]
  },
  {
   "cell_type": "code",
   "execution_count": null,
   "id": "b3108478-2663-4439-ba8f-0ebeb378ffb9",
   "metadata": {},
   "outputs": [],
   "source": []
  }
 ],
 "metadata": {
  "kernelspec": {
   "display_name": "Python 3 (ipykernel)",
   "language": "python",
   "name": "python3"
  },
  "language_info": {
   "codemirror_mode": {
    "name": "ipython",
    "version": 3
   },
   "file_extension": ".py",
   "mimetype": "text/x-python",
   "name": "python",
   "nbconvert_exporter": "python",
   "pygments_lexer": "ipython3",
   "version": "3.12.4"
  }
 },
 "nbformat": 4,
 "nbformat_minor": 5
}
